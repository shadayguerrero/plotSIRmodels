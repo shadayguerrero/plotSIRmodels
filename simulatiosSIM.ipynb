{
 "cells": [
  {
   "cell_type": "markdown",
   "metadata": {},
   "source": [
    "# Endemic  periodic solutions of seasonal epidemiological models with information-dependent vaccination\n",
    "Shaday Guerrero Flores, email:shaday@ifm.umich.mx, shaday@matmor.unam.mx\n",
    "\n",
    "Osvaldo Osuna, email:osvaldo@ifm.umich.mx\n",
    "\n",
    "Cruz Vargas De León, email:leoncruz82@yahoo.com.mx\n",
    "\n"
   ]
  },
  {
   "cell_type": "code",
   "execution_count": null,
   "metadata": {},
   "outputs": [],
   "source": [
    "import numpy as np \n",
    "import matplotlib.pyplot as plt \n",
    "import matplotlib.colors as mcolors\n",
    "import math\n",
    "from scipy.optimize import curve_fit\n",
    "from scipy.optimize import fsolve\n",
    "from scipy.integrate import odeint\n",
    "from sympy import integrate, init_printing\n",
    "from sympy.abc import x\n",
    "init_printing(use_latex=\"mathjax\")\n",
    "from sympy import cos,pi\n",
    "\n",
    "plt.style.use('fivethirtyeight')\n",
    "%matplotlib inline "
   ]
  },
  {
   "cell_type": "markdown",
   "metadata": {},
   "source": [
    "# Models\n",
    "## The $SIR$ model for infectious diseases with permanent immunity\n",
    "\\begin{eqnarray}\n",
    "\\label{SIRM}\n",
    "\\displaystyle X^{\\prime}(t)&=& \\mu(1-\\varphi_0)-\\mu (1-\\varphi_0 -\\epsilon_1 )\\frac{d M}{d M +1}  -\\kappa(t)XY-\\mu X, \\nonumber \\\\\n",
    "Y^{\\prime}(t)&=&\\kappa(t) XY-(\\nu+\\mu)Y, \\\\\\\n",
    "M^{\\prime}(t)&=&a w Y -a M. \\nonumber\n",
    "\\end{eqnarray}\n",
    "\n"
   ]
  },
  {
   "cell_type": "code",
   "execution_count": null,
   "metadata": {},
   "outputs": [],
   "source": [
    "def SIRm(y,t,beta1,lamda,phi_0,mu,d,a,w,nu,epsilon_1):\n",
    "    S, I, M = y\n",
    "    dSdt = mu*(1-phi_0) -mu*(1-phi_0-epsilon_1)* (d*M)/(d*M+1)-  (beta1 + lamda*np.cos(2*np.pi*t/365))*S * I  - mu*S\n",
    "    dIdt =  (beta1 + lamda*np.cos(2*np.pi*t/365))*S * I - (mu + nu)* I\n",
    "    dMdt = a*w*I-a*M\n",
    "    return dSdt, dIdt, dMdt"
   ]
  },
  {
   "cell_type": "markdown",
   "metadata": {},
   "source": [
    "## The $SIS$ model for infectious diseases without immunity\n",
    "\\begin{eqnarray}\n",
    "\\label{SISM}\n",
    "\\displaystyle X^{\\prime}(t)&=& \\mu(1-\\varphi_0)-\\mu (1-\\varphi_0 -\\epsilon_1 )\\frac{d M}{d M +1}-\\kappa(t)XY-\\mu X+\\nu Y, \\nonumber \\\\\n",
    "Y^{\\prime}(t)&=&\\kappa(t) XY-(\\nu+\\mu)Y, \\\\\\\n",
    "M^{\\prime}(t)&=&a w Y -a M. \\nonumber\n",
    "\\end{eqnarray}"
   ]
  },
  {
   "cell_type": "code",
   "execution_count": null,
   "metadata": {},
   "outputs": [],
   "source": [
    "def SISm(y,t,beta1,lamda,phi_0,mu,d,a,w,nu,epsilon_1):\n",
    "    S, I, M = y\n",
    "    dSdt = mu*(1-phi_0) -mu*(1-phi_0-epsilon_1)* (d*M)/(d*M+1) -  (beta1 + lamda* np.cos(2*np.pi*t/52))*S * I  - mu*S +nu*I\n",
    "    dIdt =  (beta1 + lamda*np.cos(2*np.pi*t/52))*S * I - (mu + nu)* I\n",
    "    dMdt = a*w*I-a*M\n",
    "    return dSdt, dIdt, dMdt"
   ]
  },
  {
   "cell_type": "markdown",
   "metadata": {},
   "source": [
    "# Function to plots"
   ]
  },
  {
   "cell_type": "code",
   "execution_count": null,
   "metadata": {},
   "outputs": [],
   "source": [
    "def plot_SISm(t,S,I,M):\n",
    "    plt.figure(figsize=(16, 9))\n",
    "    \n",
    "    plt.plot(t,S,label='Susceptible')\n",
    "    plt.plot(t,I,label='Infectados')\n",
    "    plt.xlabel('Tiempo en semanas', size=30)\n",
    "    plt.ylabel('Fracción de la población', size=30)\n",
    "    plt.xticks(size=20)\n",
    "    plt.yticks(size=20)\n",
    "    legend = plt.legend(fontsize=20)\n",
    "    plt.show()\n",
    "    \n",
    "    plt.figure(figsize=(16, 9))\n",
    "    plt.plot(t,M,label='M')\n",
    "    plt.xlabel('Tiempo en semanas', size=30)\n",
    "    plt.ylabel('índice de información', size=30)\n",
    "    plt.xticks(size=20)\n",
    "    plt.yticks(size=20)\n",
    "    legend = plt.legend(fontsize=20)\n",
    "    plt.show()\n",
    "    "
   ]
  },
  {
   "cell_type": "code",
   "execution_count": null,
   "metadata": {},
   "outputs": [],
   "source": [
    "def plot_SISm_1(t,S,I,M):\n",
    "    plt.figure(figsize=(20, 15))\n",
    "    plt.subplot(3,1,1)\n",
    "    plt.plot(t,S,label='Susceptible')\n",
    "    plt.xlabel('Time (days)', size=20)\n",
    "    plt.ylabel('Fracción de la población', size=20)\n",
    "    plt.xticks(size=20)\n",
    "    plt.yticks(size=20)\n",
    "    legend = plt.legend(fontsize=20)\n",
    "    \n",
    "    plt.subplot(3,1,2)\n",
    "    plt.plot(t,I,label='Infectados')\n",
    "    plt.xlabel('Time (days)', size=20)\n",
    "    plt.ylabel('Fracción de la población', size=20)\n",
    "    plt.xticks(size=20)\n",
    "    plt.yticks(size=20)\n",
    "    legend = plt.legend(fontsize=20)\n",
    "     \n",
    "    plt.subplot(3,1,3)\n",
    "    plt.plot(t,M,label='M')\n",
    "    plt.xlabel('Time (days)', size=20)\n",
    "    plt.ylabel('índice de información', size=20)\n",
    "    plt.xticks(size=20)\n",
    "    plt.yticks(size=20)\n",
    "    legend = plt.legend(fontsize=20)\n",
    "    #plt.savefig(\"plots\\\\SISM1.pdf\", dpi=150, transparent=True, bbox_inches='tight')\n",
    "    plt.show()"
   ]
  },
  {
   "cell_type": "code",
   "execution_count": null,
   "metadata": {},
   "outputs": [],
   "source": [
    "def plot_SIRm_2(t,S,I,M,S1,I1,M1):\n",
    "    plt.figure(figsize=(20, 15))\n",
    "    plt.subplot(3,1,1)\n",
    "    plt.plot(t,S1,label='Susceptible without periodic incidence rate' )\n",
    "    plt.plot(t,S,label='Susceptible with periodic incidence rate',linestyle='dashed')\n",
    "    plt.xlabel('Time (days)', size=20)\n",
    "    plt.ylabel('Susceptibles fraction', size=20)\n",
    "    plt.xticks(size=20)\n",
    "    plt.yticks(size=20)\n",
    "    legend = plt.legend(fontsize=20, loc=1)\n",
    "    \n",
    "    plt.subplot(3,1,2)\n",
    "    plt.plot(t,I1,label='Infected without periodic incidence rate')  \n",
    "    plt.plot(t,I,label='Infected with periodic incidence rate',linestyle='dashed')   \n",
    "    plt.xlabel('Time (days)', size=20)\n",
    "    plt.ylabel('Infected fraction', size=20)\n",
    "    plt.xticks(size=20)\n",
    "    plt.yticks(size=20)\n",
    "    legend = plt.legend(fontsize=20, loc=1)    \n",
    "    \n",
    "    plt.subplot(3,1,3)\n",
    "    plt.plot(t,M1,label='M without periodic incidence rate')\n",
    "    plt.plot(t,M,label='M with periodic incidence rate',linestyle='dashed')\n",
    "    plt.xlabel('Time (days)', size=20)\n",
    "    plt.ylabel('Information index', size=20)\n",
    "    plt.xticks(size=20)\n",
    "    plt.yticks(size=20)\n",
    "    legend = plt.legend(fontsize=20, loc=1)\n",
    "    plt.savefig(\"plots\\\\SIRm-together.pdf\", dpi=3000, transparent=True, bbox_inches='tight')\n",
    "    plt.show()"
   ]
  },
  {
   "cell_type": "code",
   "execution_count": null,
   "metadata": {},
   "outputs": [],
   "source": [
    "def plot_SISm_2(t,S,I,M,S1,I1,M1):\n",
    "    plt.figure(figsize=(20, 15))\n",
    "    plt.subplot(3,1,1)\n",
    "    plt.plot(t,S1,label='Susceptible without periodic incidence rate' )\n",
    "    plt.plot(t,S,label='Susceptible with periodic incidence rate',linestyle='dashed')\n",
    "    plt.xlabel('Time (weeks)', size=20)\n",
    "    plt.ylabel('Susceptibles fraction', size=20)\n",
    "    plt.xticks(size=20)\n",
    "    plt.yticks(size=20)\n",
    "    legend = plt.legend(fontsize=20, loc=1)\n",
    "    \n",
    "    plt.subplot(3,1,2)\n",
    "    plt.plot(t,I1,label='Infected without periodic incidence rate')  \n",
    "    plt.plot(t,I,label='Infected with periodic incidence rate',linestyle='dashed')\n",
    "     \n",
    "    plt.xlabel('Time (weeks)', size=20)\n",
    "    plt.ylabel('Infected fraction', size=20)\n",
    "    plt.xticks(size=20)\n",
    "    plt.yticks(size=20)\n",
    "    legend = plt.legend(fontsize=20, loc=1)  \n",
    "    \n",
    "    plt.subplot(3,1,3)\n",
    "    plt.plot(t,M1,label='M without periodic incidence rate')\n",
    "    plt.plot(t,M,label='M with periodic incidence rate',linestyle='dashed')\n",
    "    plt.xlabel('Time (weeks)', size=20)\n",
    "    plt.ylabel('Information index', size=20)\n",
    "    plt.xticks(size=20)\n",
    "    plt.yticks(size=20)\n",
    "    legend = plt.legend(fontsize=20, loc=1)\n",
    "    plt.savefig(\"plots\\\\SISm-together.pdf\", dpi=300, transparent=True, bbox_inches='tight')\n",
    "    plt.show()\n"
   ]
  },
  {
   "cell_type": "markdown",
   "metadata": {},
   "source": [
    "# Simulations\n",
    "## $SIR$ model"
   ]
  },
  {
   "cell_type": "code",
   "execution_count": null,
   "metadata": {},
   "outputs": [],
   "source": [
    "#SIR model with periodic incidence rate\n",
    "beta1,lamda,phi_0,mu,d,a,w,nu,epsilon_1 = 520/365, 520/365*0.01, 0.52, 1/27375,5000,0.80,0.3,1/7,0.45\n",
    "parametersSIRm=beta1,lamda,phi_0,mu,d,a,w,nu,epsilon_1 \n",
    "S0,Y0=0.1,0.00025\n",
    "M0= w*Y0\n",
    "initialSIRm=S0,Y0,M0\n",
    "\n",
    "t = np.linspace(0, 15000,150000) # set the time\n",
    "ret = odeint(SIRm, initialSIRm, t, args=parametersSIRm) #integracion\n",
    "S, I, M = ret.T"
   ]
  },
  {
   "cell_type": "code",
   "execution_count": null,
   "metadata": {},
   "outputs": [],
   "source": [
    "#condiciones\n",
    "#\n",
    "b0=520/365\n",
    "beta_t1=b0*(1+ lamda*cos(2*np.pi*x/365))\n",
    "beta_t1\n",
    "kbarra1=integrate(beta_t1,(x,0,1))\n",
    "kbarra1\n",
    "Rv=(1-phi_0)*kbarra1/(nu +mu)\n",
    "R0=kbarra1/(nu +mu)\n",
    "teta=(1-phi_0 -epsilon_1)*d \n",
    "condincion1= nu +a*w\n",
    "condicion2=beta1*(1-phi_0) +mu*teta\n",
    "print('Rv=', Rv)\n",
    "print('R0=', R0)\n",
    "print('nu + a*w=', condincion1, '<',a)\n",
    "print('beta1*(1-phi_0) +a*w=', condicion2,'<',a)\n",
    "print('teta =', teta)\n",
    "print('k(t)=', beta_t1)\n",
    "print('kbarra', kbarra1)"
   ]
  },
  {
   "cell_type": "code",
   "execution_count": null,
   "metadata": {},
   "outputs": [],
   "source": [
    "#plot_SISm_1(t,S,I,M)"
   ]
  },
  {
   "cell_type": "code",
   "execution_count": null,
   "metadata": {},
   "outputs": [],
   "source": [
    "#SIR model without periodic incidence rate ( lamda=0)\n",
    "beta1,lamda,phi_0,mu,d,a,w,nu,epsilon_1 = 520/365, 520/365*0, 0.52, 1/27375,5000,0.80,0.3,1/7,0.45\n",
    "parametersSIRm=beta1,lamda,phi_0,mu,d,a,w,nu,epsilon_1 \n",
    "S0,Y0=0.1,0.00025\n",
    "M0= w*Y0\n",
    "initialSIRm=S0,Y0,M0\n",
    "#integracion\n",
    "t = np.linspace(0, 15000,150000)\n",
    "ret = odeint(SIRm, initialSIRm, t, args=parametersSIRm)\n",
    "S1, I1, M1 = ret.T"
   ]
  },
  {
   "cell_type": "code",
   "execution_count": null,
   "metadata": {},
   "outputs": [],
   "source": [
    "#plot_SISm_1(t,S,I,M)\n",
    "\n"
   ]
  },
  {
   "cell_type": "code",
   "execution_count": null,
   "metadata": {},
   "outputs": [],
   "source": [
    "plot_SIRm_2(t,S,I,M,S1,I1,M1)"
   ]
  },
  {
   "cell_type": "markdown",
   "metadata": {},
   "source": [
    "## $SIS$ model"
   ]
  },
  {
   "cell_type": "code",
   "execution_count": null,
   "metadata": {},
   "outputs": [],
   "source": [
    "#with periodic incidence rate\n",
    "beta1,lamda,phi_0,mu,d,a,w,nu,epsilon_1 = 2.295, 1.8, 0.75, 1/(52*75),5000,3/2,0.1,1/2,0.01\n",
    "parametersSISm=beta1,lamda,phi_0,mu,d,a,w,nu,epsilon_1 \n",
    "S0,Y0=0.7,0.01\n",
    "M0= w*Y0\n",
    "initialSISm=S0,Y0,M0\n",
    "\n",
    "t = np.linspace(0, 200,150000) # we define the time\n",
    "ret = odeint(SISm, initialSISm, t, args=parametersSISm) # we integrate the sistem \n",
    "S, I, M = ret.T "
   ]
  },
  {
   "cell_type": "code",
   "execution_count": null,
   "metadata": {},
   "outputs": [],
   "source": [
    "#condiciones\n",
    "#\n",
    "b0=2.295\n",
    "beta_t1=b0+ lamda*cos(2*np.pi*x/52)\n",
    "beta_t1\n",
    "kbarra1=integrate(beta_t1,(x,0,1))\n",
    "kbarra1\n",
    "Rv=(1-phi_0)*kbarra1/(nu +mu)\n",
    "R0=kbarra1/(nu +mu)\n",
    "teta=(1-phi_0 -epsilon_1)*d \n",
    "condincion2= mu *teta\n",
    "condicion3=beta1*(1-phi_0) +mu*a +nu\n",
    "print('Rv=', Rv)\n",
    "print('R0=', R0)\n",
    "print(' mu *teta=', condincion2, '<',a)\n",
    "print('\\beta1*(1-phi_0) +mu*a +nu=', condicion3,'<',a)\n",
    "print('teta =', teta)\n",
    "print('k(t)=', beta_t1)\n",
    "print('kbarra', kbarra1)"
   ]
  },
  {
   "cell_type": "code",
   "execution_count": null,
   "metadata": {},
   "outputs": [],
   "source": [
    "#plot \n",
    "#plot_SISm_1(t,S,I,M)"
   ]
  },
  {
   "cell_type": "code",
   "execution_count": null,
   "metadata": {},
   "outputs": [],
   "source": [
    "#without periodic incidence rate ( lamda=0)\n",
    "beta1,lamda,phi_0,mu,d,a,w,nu,epsilon_1 = 2.295, 0, 0.75, 1/(52*75),5000,3/2,0.1,1/2,0.01\n",
    "parametersSISm=beta1,lamda,phi_0,mu,d,a,w,nu,epsilon_1 \n",
    "S0,Y0=0.7,0.01\n",
    "M0= w*Y0\n",
    "initialSISm=S0,Y0,M0\n",
    "\n",
    "t = np.linspace(0, 200,150000) #set the time\n",
    "ret = odeint(SISm, initialSISm, t, args=parametersSISm) #integracion\n",
    "S1, I1, M1 = ret.T"
   ]
  },
  {
   "cell_type": "code",
   "execution_count": null,
   "metadata": {},
   "outputs": [],
   "source": [
    "#plot alone\n",
    "#plot_SISm_1(t,S1,I1,M1)"
   ]
  },
  {
   "cell_type": "code",
   "execution_count": null,
   "metadata": {},
   "outputs": [],
   "source": [
    "#plot together\n",
    "plot_SISm_2(t,S,I,M,S1,I1,M1)"
   ]
  }
 ],
 "metadata": {
  "kernelspec": {
   "display_name": "Python 3 (ipykernel)",
   "language": "python",
   "name": "python3"
  },
  "language_info": {
   "codemirror_mode": {
    "name": "ipython",
    "version": 3
   },
   "file_extension": ".py",
   "mimetype": "text/x-python",
   "name": "python",
   "nbconvert_exporter": "python",
   "pygments_lexer": "ipython3",
   "version": "3.8.12"
  }
 },
 "nbformat": 4,
 "nbformat_minor": 4
}
